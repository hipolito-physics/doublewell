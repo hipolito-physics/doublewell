{
 "cells": [
  {
   "cell_type": "code",
   "execution_count": 39,
   "metadata": {
    "scrolled": false
   },
   "outputs": [
    {
     "name": "stderr",
     "output_type": "stream",
     "text": [
      "/media/paulo/f3e226f2-5cab-45be-a12b-6b3bfe24bf1e/Programs/Python/anaconda3/lib/python3.7/site-packages/ipykernel_launcher.py:21: RuntimeWarning: divide by zero encountered in true_divide\n",
      "/media/paulo/f3e226f2-5cab-45be-a12b-6b3bfe24bf1e/Programs/Python/anaconda3/lib/python3.7/site-packages/ipykernel_launcher.py:21: RuntimeWarning: invalid value encountered in multiply\n",
      "/media/paulo/f3e226f2-5cab-45be-a12b-6b3bfe24bf1e/Programs/Python/anaconda3/lib/python3.7/site-packages/scipy/optimize/minpack.py:162: RuntimeWarning: The iteration is not making good progress, as measured by the \n",
      "  improvement from the last ten iterations.\n",
      "  warnings.warn(msg, RuntimeWarning)\n"
     ]
    }
   ],
   "source": [
    "import numpy as np\n",
    "from scipy import optimize\n",
    "from scipy.optimize import fsolve\n",
    "import matplotlib.pyplot as plt\n",
    "from matplotlib import style\n",
    "style.use('ggplot')\n",
    "\n",
    "# Parametros\n",
    "\n",
    "h_bar = 1\n",
    "m = 1\n",
    "V_0 = 50\n",
    "a = 0.5\n",
    "L = 1\n",
    "\n",
    "# Equação #1 de Energia \n",
    "\n",
    "def func_4(E_4):\n",
    "    k = np.sqrt(2 * m * E_4) / h_bar # k (região V_0 = 0)\n",
    "    B = np.sqrt(2 * m * (E_4 - V_0)) / h_bar # B (região E > V_0 !!!)\n",
    "    eq4 = -k * (1 / np.tan(k * a)) -  B * (1 / np.tan(B / 2 * (L - a))) # segunda equação transcendental E > V_0 (green)\n",
    "    return eq4\n",
    "\n",
    "for i in list(range(50,1000)):\n",
    "    raizes = fsolve(func_4,i)\n",
    "    #print(raizes)\n",
    "    teste = func_4(raizes)\n",
    "    #print(teste)\n",
    "    \n"
   ]
  },
  {
   "cell_type": "code",
   "execution_count": null,
   "metadata": {},
   "outputs": [],
   "source": []
  },
  {
   "cell_type": "code",
   "execution_count": null,
   "metadata": {},
   "outputs": [],
   "source": []
  },
  {
   "cell_type": "code",
   "execution_count": null,
   "metadata": {},
   "outputs": [],
   "source": []
  },
  {
   "cell_type": "code",
   "execution_count": null,
   "metadata": {},
   "outputs": [],
   "source": []
  }
 ],
 "metadata": {
  "kernelspec": {
   "display_name": "Python 3",
   "language": "python",
   "name": "python3"
  },
  "language_info": {
   "codemirror_mode": {
    "name": "ipython",
    "version": 3
   },
   "file_extension": ".py",
   "mimetype": "text/x-python",
   "name": "python",
   "nbconvert_exporter": "python",
   "pygments_lexer": "ipython3",
   "version": "3.7.4"
  }
 },
 "nbformat": 4,
 "nbformat_minor": 2
}
