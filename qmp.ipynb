{
 "cells": [
  {
   "cell_type": "markdown",
   "metadata": {},
   "source": [
    "# Solução das Equações Transcendentais\n"
   ]
  },
  {
   "cell_type": "markdown",
   "metadata": {},
   "source": [
    "### 1.1 E < V_0"
   ]
  },
  {
   "cell_type": "code",
   "execution_count": 144,
   "metadata": {},
   "outputs": [],
   "source": [
    "#libraries\n",
    "from sympy import *\n",
    "\n",
    "\n",
    "# Parametros\n",
    "h_bar = 1\n",
    "m = 1\n",
    "V_0 = 50\n",
    "a = 0.5\n",
    "L = 1\n",
    "E = symbols('E')\n",
    "# Equações de Energia\n",
    "k = (2 * m * E) ** (1/2) / h_bar\n",
    "B = (2 * m * (V_0 - E)) ** (1/2) / h_bar"
   ]
  },
  {
   "cell_type": "code",
   "execution_count": 155,
   "metadata": {},
   "outputs": [
    {
     "data": {
      "image/png": "[encoded data removed]",
      "text/latex": [
       "$\\displaystyle 275.228505124293$"
      ],
      "text/plain": [
       "275.228505124293"
      ]
     },
     "execution_count": 155,
     "metadata": {},
     "output_type": "execute_result"
    }
   ],
   "source": [
    "# Equações Transcendentais\n",
    "Eq(k * cot(k*a),-B*tanh(B/2*(L-a)))\n",
    "nsolve(k * cot(k*a)+B*tanh(B/2*(L-a)), E, 1)"
   ]
  },
  {
   "cell_type": "code",
   "execution_count": 154,
   "metadata": {},
   "outputs": [
    {
     "data": {
      "image/png": "[encoded data removed]",
      "text/latex": [
       "$\\displaystyle 1875.63103300026$"
      ],
      "text/plain": [
       "1875.63103300026"
      ]
     },
     "execution_count": 154,
     "metadata": {},
     "output_type": "execute_result"
    }
   ],
   "source": [
    "# Equações Transcendentais\n",
    "Eq(k * cot(k*a),-B*coth(B/2*(L-a)))\n",
    "nsolve(k * cot(k*a)+B*coth(B/2*(L-a)), E, 1)"
   ]
  },
  {
   "cell_type": "code",
   "execution_count": null,
   "metadata": {},
   "outputs": [],
   "source": []
  }
 ],
 "metadata": {
  "kernelspec": {
   "display_name": "Python 3",
   "language": "python",
   "name": "python3"
  },
  "language_info": {
   "codemirror_mode": {
    "name": "ipython",
    "version": 3
   },
   "file_extension": ".py",
   "mimetype": "text/x-python",
   "name": "python",
   "nbconvert_exporter": "python",
   "pygments_lexer": "ipython3",
   "version": "3.7.3"
  }
 },
 "nbformat": 4,
 "nbformat_minor": 2
}
