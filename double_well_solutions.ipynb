{
 "cells": [
  {
   "cell_type": "markdown",
   "metadata": {},
   "source": [
    "# Solução/Raízes das Equações Transcendentais\n"
   ]
  },
  {
   "cell_type": "markdown",
   "metadata": {},
   "source": [
    "## 1 Energias abaixo da barreira de potencial"
   ]
  },
  {
   "cell_type": "code",
   "execution_count": 2,
   "metadata": {},
   "outputs": [],
   "source": [
    "#libraries\n",
    "\n",
    "import numpy as np\n",
    "from scipy import optimize\n",
    "from scipy.optimize import fsolve\n",
    "import matplotlib.pyplot as plt\n",
    "from matplotlib import style\n",
    "import sympy\n",
    "from sympy import *\n",
    "style.use('ggplot')\n",
    "\n",
    "# Parametros\n",
    "\n",
    "h_bar = 1\n",
    "m = 1\n",
    "V_0 = 50\n",
    "a = 0.5\n",
    "L = 1\n"
   ]
  },
  {
   "cell_type": "markdown",
   "metadata": {},
   "source": [
    "#### 1.1 E < V_0"
   ]
  },
  {
   "cell_type": "code",
   "execution_count": 17,
   "metadata": {},
   "outputs": [
    {
     "name": "stdout",
     "output_type": "stream",
     "text": [
      "[11.39613346 12.90375241 13.34913448 13.33435119 13.27909209 13.4956831\n",
      " 14.21587707 15.59534823 17.70880795 20.54416668 24.00209525 27.90532002\n",
      " 32.01921999 36.0819951  39.83970509 43.07980392 45.65695709 47.50672578\n",
      " 48.64549576 49.15791702 49.1755013  48.85138807 48.33642178 47.76060792\n",
      " 47.22209811 46.78377917 46.47590926 46.30248847 46.24907822 46.29035777\n",
      " 46.39641677 46.53741907 46.68668905 46.82249281 46.92885029 46.99569137\n",
      " 47.01860751 46.99838124 46.94041464]\n"
     ]
    },
    {
     "name": "stderr",
     "output_type": "stream",
     "text": [
      "/home/paulo/anaconda3/lib/python3.7/site-packages/ipykernel_launcher.py:5: RuntimeWarning: invalid value encountered in sqrt\n",
      "  \"\"\"\n",
      "/home/paulo/anaconda3/lib/python3.7/site-packages/ipykernel_launcher.py:4: RuntimeWarning: invalid value encountered in sqrt\n",
      "  after removing the cwd from sys.path.\n"
     ]
    },
    {
     "data": {
      "image/png": "[encoded data removed]",
      "text/plain": [
       "<Figure size 432x288 with 1 Axes>"
      ]
     },
     "metadata": {
      "needs_background": "light"
     },
     "output_type": "display_data"
    }
   ],
   "source": [
    "# Equação #1 de Energia \n",
    "\n",
    "def func_1(E_1):\n",
    "    k = np.sqrt(2 * m * E_1) / h_bar # k (região V_0 = 0)\n",
    "    B = np.sqrt(2 * m * (V_0 - E_1)) / h_bar # B (região V_0 != 0)\n",
    "    eq1 = k * (1 / np.tan(k * a)) + B * np.tanh(B / 2 * (L - a)) # primeira equação transcendental (red)\n",
    "    return eq1\n",
    "  \n",
    "raizes1 = fsolve(func_1, list(range(11,50))) #rotina scipy, 'chutando' um range de vizinhos próximos das interseções\n",
    "solucao1 = print(raizes1)\n",
    "\n",
    "# Gráfico das raízes \n",
    "\n",
    "E_1 = np.linspace(-500,500,10000)\n",
    "plt.plot(E_1,func_1(E_1),lw=1)\n",
    "plt.plot(raizes1,func_1(raizes1),'s',ms=10)\n",
    "plt.axhline(0,color='gray',lw=0.5)\n",
    "plt.ylim([-15,15])\n",
    "plt.plot([0,65],[0,0],'o-')\n",
    "plt.xlabel('Valores para Energia')\n",
    "plt.title('Raízes Possíveis')\n",
    "plt.show()"
   ]
  },
  {
   "cell_type": "code",
   "execution_count": 16,
   "metadata": {},
   "outputs": [
    {
     "name": "stdout",
     "output_type": "stream",
     "text": [
      "[22.13258047 18.3382158  14.77963507 13.62390267 13.57680593 13.28784337\n",
      " 12.75715472 12.67300461 13.76353671 16.52085817 21.10721819 27.33732033\n",
      " 34.71083984 42.49163797 49.82822099]\n"
     ]
    },
    {
     "name": "stderr",
     "output_type": "stream",
     "text": [
      "/home/paulo/anaconda3/lib/python3.7/site-packages/ipykernel_launcher.py:4: RuntimeWarning: invalid value encountered in sqrt\n",
      "  after removing the cwd from sys.path.\n",
      "/home/paulo/anaconda3/lib/python3.7/site-packages/ipykernel_launcher.py:5: RuntimeWarning: invalid value encountered in sqrt\n",
      "  \"\"\"\n"
     ]
    },
    {
     "data": {
      "image/png": "[encoded data removed]",
      "text/plain": [
       "<Figure size 432x288 with 1 Axes>"
      ]
     },
     "metadata": {
      "needs_background": "light"
     },
     "output_type": "display_data"
    }
   ],
   "source": [
    "# Equação #2 de Energia \n",
    "\n",
    "def func_2(E_2):\n",
    "    k = np.sqrt(2 * m * E_2) / h_bar # k (região V_0 = 0)\n",
    "    B = np.sqrt(2 * m * (V_0 - E_2)) / h_bar # B (região V_0 != 0)\n",
    "    eq2 = k * (1 / np.tan(k * a)) +  B * (1 / np.tanh(B / 2 * (L - a))) # segunda equação transcendental (green)\n",
    "    return eq2\n",
    "  \n",
    "raizes2 = fsolve(func_2, list(range(10,25))) #rotina scipy, 'chutando' vizinhos próximos da interseção\n",
    "solucao2 = print(raizes2)\n",
    "\n",
    "# Gráfico das Soluções\n",
    "E_2 = np.linspace(-500,500,100000)\n",
    "plt.plot(E_2,func_2(E_2),lw=1)\n",
    "plt.plot(raizes2,func_2(raizes2),'s',ms=10)\n",
    "plt.axhline(0,color='gray',lw=0.5)\n",
    "plt.ylim([-15,15])\n",
    "plt.plot([0,65],[0,0],'o-')\n",
    "plt.xlabel('Valores para Energia')\n",
    "plt.title('Raízes Possíveis')\n",
    "plt.show()"
   ]
  },
  {
   "cell_type": "markdown",
   "metadata": {},
   "source": [
    "## 2 Energias acima da barreira de potencial\n",
    "\n",
    "#### 2.1 E > V_0"
   ]
  },
  {
   "cell_type": "code",
   "execution_count": 19,
   "metadata": {},
   "outputs": [
    {
     "name": "stdout",
     "output_type": "stream",
     "text": [
      "[ 50.27041738  51.06960526  51.97668441  52.99759722  54.13877681\n",
      "  55.40725722  56.8106892   58.35708014  60.05384241  61.90522691\n",
      "  63.90619763  66.02907297  68.19778028  70.24965911  71.91531205\n",
      "  72.91160741  73.21002325  73.207857    73.44330824  74.19980643\n",
      "  75.47092038  77.12901357  79.04331292  81.11571244  83.27965635\n",
      "  85.49084533  87.71912176  89.94301506  92.14640006  94.31652678\n",
      "  96.44288245  98.51654098 100.52979817 102.47596928 104.34928118\n",
      " 106.14481307 107.8584654  109.48693937 111.02771756 112.47904426\n",
      " 113.83989881]\n"
     ]
    },
    {
     "name": "stderr",
     "output_type": "stream",
     "text": [
      "/home/paulo/anaconda3/lib/python3.7/site-packages/ipykernel_launcher.py:4: RuntimeWarning: invalid value encountered in sqrt\n",
      "  after removing the cwd from sys.path.\n",
      "/home/paulo/anaconda3/lib/python3.7/site-packages/ipykernel_launcher.py:3: RuntimeWarning: invalid value encountered in sqrt\n",
      "  This is separate from the ipykernel package so we can avoid doing imports until\n"
     ]
    },
    {
     "data": {
      "image/png": "[encoded data removed]",
      "text/plain": [
       "<Figure size 432x288 with 1 Axes>"
      ]
     },
     "metadata": {
      "needs_background": "light"
     },
     "output_type": "display_data"
    }
   ],
   "source": [
    "# Equação #3 de Energia\n",
    "def func_3(E_3):\n",
    "    k = np.sqrt(2 * m * E_3) / h_bar # k (região V_0 = 0)\n",
    "    B = np.sqrt(2 * m * (E_3 - V_0)) / h_bar # B (região E > V_0 !!!)\n",
    "    eq3 = k * (1 / np.tan(k * a)) -  B * np.tan(B / 2 * (L - a)) # primeira equação transcendental (red)\n",
    "    return eq3\n",
    "\n",
    "raizes3 = fsolve(func_3,list(range(57, 98))) #rotina scipy, 'chutando' vizinhos próximos da interseção\n",
    "solucao3 = print(raizes3)\n",
    "\n",
    "# Gráfico das Soluções\n",
    "E_3 = np.linspace(-500,500,1000)\n",
    "plt.plot(E_3,func_3(E_3),lw=1)\n",
    "plt.plot(raizes3,func_3(raizes3),'s',ms=10)\n",
    "plt.axhline(0,color='gray',lw=0.5)\n",
    "plt.ylim([-30,30])\n",
    "plt.xlim([50,150])\n",
    "plt.plot([0,500],[0,0],'o-')\n",
    "plt.xlabel('Valores para Energia')\n",
    "plt.title('Raízes Possíveis')\n",
    "plt.show()\n"
   ]
  },
  {
   "cell_type": "code",
   "execution_count": 18,
   "metadata": {},
   "outputs": [
    {
     "name": "stdout",
     "output_type": "stream",
     "text": [
      "[100.39073718  51.37521462  51.37521462  51.37521462  51.37521458\n",
      " 100.39073718 100.39073718 100.39073718 100.39073718 156.20313369\n",
      " 156.20313369 156.20313369 156.20313369 156.20313369 237.02841749\n",
      " 237.02841749 156.20313369 156.20313369 156.20313369 156.20313369\n",
      " 156.20313369 156.20313369 156.20313369 156.20313369 156.20313369\n",
      " 156.20313369 156.20313369 156.20313369 156.20313369 156.20313369\n",
      " 156.20313369 156.20313369 156.20313369 156.20313369 156.20313369\n",
      " 156.20313369 156.20313369 156.20313369 156.20313369 156.20313369\n",
      " 156.20313369 156.20313369 156.20313369 156.20313369 156.20313369\n",
      " 156.20313369 156.20313369 156.20313369 156.20313369 156.20313369\n",
      " 156.20313369 156.20313369 156.20313369 156.20313369 156.20313369\n",
      " 156.20313369 156.20313369 156.20313369 237.02841749 237.02841749\n",
      " 237.02841749 237.02841749 237.02841749 237.02841749 237.02841749\n",
      " 237.02841749 237.02841749 237.02841749 237.02841749 237.02841749\n",
      " 237.02841749 237.02841749 237.0284175  237.02841749 237.02841749\n",
      " 237.02841749 237.02841749 237.02841749 237.02841749 237.02841749\n",
      " 237.02841749 237.02841749 237.02841749 237.02841749 237.02841749\n",
      " 237.02841749 237.02841749 237.02841749 237.02841749 237.02841749\n",
      " 237.02841749 237.02841749 237.02841749 237.02841749 237.02841749\n",
      " 237.02841749 237.02841749 237.02841749 237.02841749 237.02841749\n",
      " 237.02841749 237.02841749 237.02841749 237.02841749 237.02841749\n",
      " 237.02841749 237.02841749 237.02841749 237.02841749 237.02841749\n",
      " 237.02841749 237.02841749 237.02841749 237.02841749 237.02841749\n",
      " 237.02841749 237.02841749 237.02841749 237.02841749 237.02841749\n",
      " 237.02841749 237.02841749 237.02841749 237.02841749 237.02841749\n",
      " 237.02841749 237.02841749 237.02841749 237.02841749 237.02841749]\n"
     ]
    },
    {
     "name": "stderr",
     "output_type": "stream",
     "text": [
      "/home/paulo/anaconda3/lib/python3.7/site-packages/ipykernel_launcher.py:4: RuntimeWarning: invalid value encountered in sqrt\n",
      "  after removing the cwd from sys.path.\n",
      "/home/paulo/anaconda3/lib/python3.7/site-packages/ipykernel_launcher.py:3: RuntimeWarning: invalid value encountered in sqrt\n",
      "  This is separate from the ipykernel package so we can avoid doing imports until\n"
     ]
    },
    {
     "data": {
      "image/png": "[encoded data removed]",
      "text/plain": [
       "<Figure size 432x288 with 1 Axes>"
      ]
     },
     "metadata": {
      "needs_background": "light"
     },
     "output_type": "display_data"
    }
   ],
   "source": [
    "# Equação #4 de Energia\n",
    "def func_4(E_4):\n",
    "    k = np.sqrt(2 * m * E_4) / h_bar # k (região V_0 = 0)\n",
    "    B = np.sqrt(2 * m * (E_4 - V_0)) / h_bar # B (região E > V_0 !!!)\n",
    "    eq4 = -k * (1 / np.tan(k * a)) -  B * (1 / np.tan(B / 2 * (L - a))) # segunda equação transcendental E > V_0 (green)\n",
    "    return eq4\n",
    "\n",
    "raizes4 = fsolve(func_4,list(range(120, 250))) #rotina scipy, 'chutando' vizinhos próximos da interseção\n",
    "solucao4 = print(raizes4)\n",
    "\n",
    "# Gráfico das Soluções\n",
    "E_4 = np.linspace(-500,500,1000)\n",
    "plt.plot(E_4,func_4(E_4),lw=1)\n",
    "plt.plot(raizes4,func_4(raizes4),'s',ms=10)\n",
    "plt.axhline(0,color='gray',lw=0.5)\n",
    "plt.ylim([-1.5,1.5])\n",
    "plt.xlim([50,250])\n",
    "plt.plot([0,500],[0,0],'o-')\n",
    "plt.xlabel('Valores para Energia')\n",
    "plt.title('Raízes Possíveis')\n",
    "plt.show()"
   ]
  },
  {
   "cell_type": "code",
   "execution_count": null,
   "metadata": {},
   "outputs": [],
   "source": []
  }
 ],
 "metadata": {
  "kernelspec": {
   "display_name": "Python 3",
   "language": "python",
   "name": "python3"
  },
  "language_info": {
   "codemirror_mode": {
    "name": "ipython",
    "version": 3
   },
   "file_extension": ".py",
   "mimetype": "text/x-python",
   "name": "python",
   "nbconvert_exporter": "python",
   "pygments_lexer": "ipython3",
   "version": "3.7.3"
  }
 },
 "nbformat": 4,
 "nbformat_minor": 4
}
