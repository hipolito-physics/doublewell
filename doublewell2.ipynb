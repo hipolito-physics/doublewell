{
 "cells": [
  {
   "cell_type": "code",
   "execution_count": 172,
   "metadata": {
    "scrolled": false
   },
   "outputs": [
    {
     "name": "stdout",
     "output_type": "stream",
     "text": [
      "[13.37208438 13.37208438 13.37208438 47.01861504 47.01861504]\n"
     ]
    }
   ],
   "source": [
    "import numpy as np\n",
    "from scipy import optimize\n",
    "from scipy.optimize import fsolve\n",
    "#np.seterr(divide='ignore', invalid='ignore')\n",
    "\n",
    "# Parametros\n",
    "\n",
    "h_bar = 1\n",
    "m = 1\n",
    "V_0 = 50\n",
    "a = 0.5\n",
    "L = 1\n",
    "\n",
    "# Equação #1 de Energia \n",
    "\n",
    "\n",
    "def func_1(E_1):\n",
    "    k = np.sqrt(2 * m * E_1) / h_bar # k (região V_0 = 0)\n",
    "    B = np.sqrt(2 * m * (V_0 - E_1)) / h_bar # B (região V_0 != 0)\n",
    "    eq1 = k * (1 / np.tan(k * a)) + B * np.tanh(B / 2 * (L - a)) \n",
    "    return eq1\n",
    "\n",
    "\n",
    "lista_solucao1 = np.array([])\n",
    "for i in np.arange(0,V_0):\n",
    "    raizes1 = np.array(fsolve(func_1, i, xtol = 1e-15))\n",
    "    valores_zeros1 = np.array(func_1(raizes1))\n",
    "    if valores_zeros1 < 1e-6 and valores_zeros1 > -1e-6:\n",
    "        if np.all(lista_solucao1 != raizes1):\n",
    "            lista_solucao1 = np.append(lista_solucao1,raizes1)\n",
    "\n",
    "            \n",
    "print(lista_solucao1)\n"
   ]
  },
  {
   "cell_type": "markdown",
   "metadata": {},
   "source": [
    "# Equação 2"
   ]
  },
  {
   "cell_type": "code",
   "execution_count": 173,
   "metadata": {},
   "outputs": [
    {
     "name": "stdout",
     "output_type": "stream",
     "text": [
      "[13.5801715 13.5801715 13.5801715]\n"
     ]
    }
   ],
   "source": [
    "#Equação #2 de Energia\n",
    "\n",
    "def func_2(E_2):\n",
    "    k = np.sqrt(2 * m * E_2) / h_bar # k (região V_0 = 0)\n",
    "    B = np.sqrt(2 * m * (V_0 - E_2)) / h_bar # B (região V_0 != 0)\n",
    "    eq2 = k * (1 / np.tan(k * a)) +  B * (1 / np.tanh(B / 2 * (L - a))) # segunda equação transcendental (green)\n",
    "    return eq2\n",
    "\n",
    "lista_solucao2 = np.array([])\n",
    "for j in np.arange(0,V_0):\n",
    "    raizes2 = np.array(fsolve(func_2, j, xtol = 1e-15))\n",
    "    valores_zeros2 = np.array(func_2(raizes2))\n",
    "    if valores_zeros2 < 1e-6 and valores_zeros2 > -1e-6 :\n",
    "        if np.all(lista_solucao2 != raizes2):\n",
    "            lista_solucao2 = np.append(lista_solucao2,raizes2)\n",
    "\n",
    "\n",
    "print(lista_solucao2)\n"
   ]
  },
  {
   "cell_type": "markdown",
   "metadata": {},
   "source": [
    "# Equação 3"
   ]
  },
  {
   "cell_type": "code",
   "execution_count": 174,
   "metadata": {
    "scrolled": true
   },
   "outputs": [
    {
     "name": "stdout",
     "output_type": "stream",
     "text": [
      "[  73.21527219  125.21354003  125.21354003  196.60313354  196.60313354\n",
      "  281.12091542  281.12091542  388.22247283  388.22247283  388.22247283\n",
      "  510.98656368  510.98656368  510.98656368  649.78874677  649.78874677\n",
      "  809.09929624  809.09929624  984.31772668  984.31772668  984.31772668\n",
      " 1176.32806737 1176.32806737 1176.32806737 1387.97206779 1387.97206779\n",
      " 1615.80286763 1615.80286763 1860.72754332 1860.72754332 2124.80725573\n",
      " 2124.80725573 2405.285252   2405.285252   2703.00799129 2703.00799129\n",
      " 2703.00799129 3019.58454512 3019.58454512 3019.58454512 3019.58454512\n",
      " 3352.71779265 3352.71779265 3703.18192849 3703.18192849 3703.18192849\n",
      " 4072.29311425 4072.29311425 4072.29311425 4072.29311425 4458.08242765\n",
      " 4861.2564402  4861.2564402  4861.2564402  5282.92690881 5282.92690881\n",
      " 5282.92690881 5721.37102948 5721.37102948 5721.37102948 5721.37102948\n",
      " 6177.23570876 6177.23570876 6651.4823292  6651.4823292  6651.4823292\n",
      " 7142.57950343 7142.57950343 7651.12233054 7651.12233054 8177.95711637\n",
      " 8177.95711637 8177.95711637 8721.70560483 8721.70560483 9282.91799255\n",
      " 9282.91799255 9862.34978646 9862.34978646 9862.34978646 9862.34978646]\n"
     ]
    }
   ],
   "source": [
    "#Equação #3 de Energia\n",
    "\n",
    "def func_3(E_3):\n",
    "    k = np.sqrt(2 * m * E_3) / h_bar # k (região V_0 = 0)\n",
    "    B = np.sqrt(2 * m * (E_3 - V_0)) / h_bar # B (região E > V_0 !!!)\n",
    "    eq3 = k * (1 / np.tan(k * a)) -  B * np.tan(B / 2 * (L - a)) # primeira equação transcendental (red)\n",
    "    return eq3\n",
    "\n",
    "lista_solucao3 = np.array([])\n",
    "for k in np.arange(V_0,10000): #varrendo soluções entre 50 ~ 100\n",
    "    raizes3 = np.array(fsolve(func_3, k, xtol = 1e-15))\n",
    "    valores_zeros3 = np.array(func_3(raizes3))\n",
    "    if valores_zeros3 < 1e-6 and valores_zeros3 > -1e-6:\n",
    "        if np.all(lista_solucao3 != raizes3):\n",
    "            lista_solucao3 = np.append(lista_solucao3,raizes3)\n",
    "            \n",
    "print(lista_solucao3)            \n"
   ]
  },
  {
   "cell_type": "markdown",
   "metadata": {},
   "source": [
    "# Equação 4"
   ]
  },
  {
   "cell_type": "code",
   "execution_count": 175,
   "metadata": {
    "scrolled": false
   },
   "outputs": [
    {
     "name": "stdout",
     "output_type": "stream",
     "text": [
      "[   51.37521462    51.37521462   100.39073718   100.39073718\n",
      "   100.39073718   156.20313369   237.02841749   237.02841749\n",
      "   333.7992127    333.7992127    445.71218526   445.71218526\n",
      "   578.90927613   578.90927613   578.90927613   578.90927613\n",
      "   727.86257747   727.86257747   727.86257747   727.86257747\n",
      "   893.32742808   893.32742808   893.32742808   893.32742808\n",
      "  1078.78854634  1078.78854634  1280.30532669  1280.30532669\n",
      "  1498.79377987  1498.79377987  1498.79377987  1736.64592983\n",
      "  1736.64592983  1990.79843562  1990.79843562  2262.13169543\n",
      "  2262.13169543  2552.4539658   2552.4539658   2552.4539658\n",
      "  2859.25923122  2859.25923122  2859.25923122  3183.35774082\n",
      "  3183.35774082  3183.35774082  3526.19787454  3526.19787454\n",
      "  3526.19787454  3885.65924151  3885.65924151  4262.4813028\n",
      "  4262.4813028   4657.86962408  4657.86962408  5069.98654832\n",
      "  5069.98654832  5069.98654832  5499.50779044  5499.50779044\n",
      "  5947.46458002  5947.46458002  5947.46458002  6412.23545185\n",
      "  6412.23545185  6894.44047902  6894.44047902  7394.97990843\n",
      "  7394.97990843  7394.97990843  7912.40294817  7912.40294817\n",
      "  7912.40294817  8447.28145037  8447.28145037  8447.28145037\n",
      "  9000.41378792  9000.41378792  9570.48733236  9570.48733236\n",
      " 10158.03208498 10158.03208498]\n"
     ]
    }
   ],
   "source": [
    "\n",
    "\n",
    "def func_4(E_4):\n",
    "    k = np.sqrt(2 * m * E_4) / h_bar # k (região V_0 = 0)\n",
    "    B = np.sqrt(2 * m * (E_4 - V_0)) / h_bar # B (região E > V_0 !!!)\n",
    "    eq4 = -k * (1 / np.tan(k * a)) -  B * (1 / np.tan(B / 2 * (L - a))) # segunda equação transcendental E > V_0 (green)\n",
    "    return eq4\n",
    "\n",
    "lista_solucao4 = np.array([])\n",
    "for l in np.arange(V_0,10000):\n",
    "    raizes4 = np.array(fsolve(func_4, l, xtol = 1e-15))\n",
    "    valores_zeros4 = np.array(func_4(raizes4))\n",
    "    if valores_zeros4 < 1e-6 and valores_zeros4 > -1e-6:\n",
    "        if np.all(lista_solucao4 != raizes4):\n",
    "            lista_solucao4 = np.append(lista_solucao4,raizes4)\n",
    "print(lista_solucao4)"
   ]
  },
  {
   "cell_type": "code",
   "execution_count": null,
   "metadata": {},
   "outputs": [],
   "source": []
  }
 ],
 "metadata": {
  "kernelspec": {
   "display_name": "Python 3",
   "language": "python",
   "name": "python3"
  },
  "language_info": {
   "codemirror_mode": {
    "name": "ipython",
    "version": 3
   },
   "file_extension": ".py",
   "mimetype": "text/x-python",
   "name": "python",
   "nbconvert_exporter": "python",
   "pygments_lexer": "ipython3",
   "version": "3.7.6"
  }
 },
 "nbformat": 4,
 "nbformat_minor": 2
}
