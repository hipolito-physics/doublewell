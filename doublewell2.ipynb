{
 "cells": [
  {
   "cell_type": "code",
   "execution_count": 73,
   "metadata": {
    "scrolled": false
   },
   "outputs": [
    {
     "name": "stdout",
     "output_type": "stream",
     "text": [
      "-3.631685174809718e-09\n",
      "4.191159641564468e-09\n"
     ]
    },
    {
     "name": "stderr",
     "output_type": "stream",
     "text": [
      "/home/paulo/anaconda3/lib/python3.7/site-packages/ipykernel_launcher.py:20: RuntimeWarning: divide by zero encountered in true_divide\n",
      "/home/paulo/anaconda3/lib/python3.7/site-packages/ipykernel_launcher.py:20: RuntimeWarning: invalid value encountered in multiply\n",
      "/home/paulo/anaconda3/lib/python3.7/site-packages/ipykernel_launcher.py:18: RuntimeWarning: invalid value encountered in sqrt\n"
     ]
    }
   ],
   "source": [
    "import numpy as np\n",
    "from scipy import optimize\n",
    "from scipy.optimize import fsolve\n",
    "\n",
    "\n",
    "# Parametros\n",
    "\n",
    "h_bar = 1\n",
    "m = 1\n",
    "V_0 = 50\n",
    "a = 0.5\n",
    "L = 1\n",
    "\n",
    "# Equação #1 de Energia \n",
    "\n",
    "\n",
    "def func_1(E_1):\n",
    "    k = np.sqrt(2 * m * E_1) / h_bar # k (região V_0 = 0)\n",
    "    B = np.sqrt(2 * m * (V_0 - E_1)) / h_bar # B (região V_0 != 0)\n",
    "    eq1 = k * (1 / np.tan(k * a)) + B * np.tanh(B / 2 * (L - a)) \n",
    "    return eq1\n",
    "\n",
    "for i in range(0,50):\n",
    "    raizes1 = fsolve(func_1, i)\n",
    "    #solucao1 = print(raizes1)\n",
    "\n",
    "print(func_1(13.37208438))\n",
    "print(func_1(47.01861504))\n",
    "\n"
   ]
  },
  {
   "cell_type": "code",
   "execution_count": 78,
   "metadata": {},
   "outputs": [
    {
     "name": "stdout",
     "output_type": "stream",
     "text": [
      "9.941187428808007e-09\n"
     ]
    },
    {
     "name": "stderr",
     "output_type": "stream",
     "text": [
      "/home/paulo/anaconda3/lib/python3.7/site-packages/ipykernel_launcher.py:5: RuntimeWarning: invalid value encountered in sqrt\n",
      "  \"\"\"\n"
     ]
    }
   ],
   "source": [
    "#Equação #2 de Energia\n",
    "\n",
    "def func_2(E_2):\n",
    "    k = np.sqrt(2 * m * E_2) / h_bar # k (região V_0 = 0)\n",
    "    B = np.sqrt(2 * m * (V_0 - E_2)) / h_bar # B (região V_0 != 0)\n",
    "    eq2 = k * (1 / np.tan(k * a)) +  B * (1 / np.tanh(B / 2 * (L - a))) # segunda equação transcendental (green)\n",
    "    return eq2\n",
    "\n",
    "for i in list(range(10,50)):\n",
    "    raizes2 = fsolve(func_2, i)\n",
    "    #solucao2 = print(raizes2)\n",
    "print(func_2(13.5801715))"
   ]
  },
  {
   "cell_type": "code",
   "execution_count": 75,
   "metadata": {},
   "outputs": [
    {
     "name": "stdout",
     "output_type": "stream",
     "text": [
      "-7.530048407033973e-08\n",
      "-4.904789907556051e-10\n",
      "4.2328522908974264e-09\n",
      "8.042697174914792e-09\n"
     ]
    },
    {
     "name": "stderr",
     "output_type": "stream",
     "text": [
      "/home/paulo/anaconda3/lib/python3.7/site-packages/ipykernel_launcher.py:5: RuntimeWarning: invalid value encountered in sqrt\n",
      "  \"\"\"\n"
     ]
    }
   ],
   "source": [
    "#Equação #3 de Energia\n",
    "\n",
    "def func_3(E_3):\n",
    "    k = np.sqrt(2 * m * E_3) / h_bar # k (região V_0 = 0)\n",
    "    B = np.sqrt(2 * m * (E_3 - V_0)) / h_bar # B (região E > V_0 !!!)\n",
    "    eq3 = k * (1 / np.tan(k * a)) -  B * np.tan(B / 2 * (L - a)) # primeira equação transcendental (red)\n",
    "    return eq3\n",
    "\n",
    "for i in list(range(50,700)):\n",
    "    raizes3 = fsolve(func_3, i)\n",
    "    #solucao3 = print(raizes3)   \n",
    "\n",
    "print(func_3(73.21527219))\n",
    "print(func_3(125.21354003))\n",
    "print(func_3(196.60313354))\n",
    "print(func_3(281.12091542))"
   ]
  },
  {
   "cell_type": "code",
   "execution_count": 77,
   "metadata": {},
   "outputs": [
    {
     "name": "stdout",
     "output_type": "stream",
     "text": [
      "-2.668059551069746e-09\n",
      "-3.936211356858621e-10\n",
      "1.1687994572184834e-08\n",
      "-3.366878775779014e-09\n"
     ]
    },
    {
     "name": "stderr",
     "output_type": "stream",
     "text": [
      "/home/paulo/anaconda3/lib/python3.7/site-packages/ipykernel_launcher.py:7: RuntimeWarning: divide by zero encountered in true_divide\n",
      "  import sys\n",
      "/home/paulo/anaconda3/lib/python3.7/site-packages/ipykernel_launcher.py:7: RuntimeWarning: invalid value encountered in multiply\n",
      "  import sys\n"
     ]
    }
   ],
   "source": [
    "# Equação #4 de Energia\n",
    "\n",
    "\n",
    "def func_4(E_4):\n",
    "    k = np.sqrt(2 * m * E_4) / h_bar # k (região V_0 = 0)\n",
    "    B = np.sqrt(2 * m * (E_4 - V_0)) / h_bar # B (região E > V_0 !!!)\n",
    "    eq4 = -k * (1 / np.tan(k * a)) -  B * (1 / np.tan(B / 2 * (L - a))) # segunda equação transcendental E > V_0 (green)\n",
    "    return eq4\n",
    "\n",
    "for i in list(range(50,700)):\n",
    "    raizes4 = fsolve(func_4,i)\n",
    "    #solucao4 = print(raizes4)\n",
    "\n",
    "print(func_4(51.37521462))\n",
    "print(func_4(100.39073718))\n",
    "print(func_4(156.20313369))\n",
    "print(func_4(237.02841749))"
   ]
  },
  {
   "cell_type": "markdown",
   "metadata": {},
   "source": [
    "# Integral Definida"
   ]
  },
  {
   "cell_type": "code",
   "execution_count": 50,
   "metadata": {},
   "outputs": [
    {
     "name": "stdout",
     "output_type": "stream",
     "text": [
      "10.000000000000002\n",
      "1.1102230246251568e-13\n",
      "1.5707963267948966\n",
      "1.743934249004316e-14\n",
      "0.29943976718048754\n",
      "5.05015300411582e-13\n"
     ]
    }
   ],
   "source": [
    "from scipy.integrate import quad\n",
    "\n",
    "\n",
    "def f(x):\n",
    "    return 3.0 * x ** 2 + 1\n",
    "f(1)\n",
    "\n",
    "integrate, err = quad(f, 0, 2)\n",
    "print(integrate)\n",
    "print(err)\n",
    "\n",
    "def f_1(x):\n",
    "    return np.sin(x)**2\n",
    "f_1(np.pi)\n",
    "\n",
    "i, err = quad(f_1,0, np.pi)\n",
    "print(i)\n",
    "print(err)\n",
    "\n",
    "def f_2(x):\n",
    "    return np.exp(-x) * np.sin(3.0 * x)\n",
    "inte, err = quad(f_2,0, 2*np.pi)\n",
    "print(inte)\n",
    "print(err)"
   ]
  },
  {
   "cell_type": "code",
   "execution_count": null,
   "metadata": {},
   "outputs": [],
   "source": []
  }
 ],
 "metadata": {
  "kernelspec": {
   "display_name": "Python 3",
   "language": "python",
   "name": "python3"
  },
  "language_info": {
   "codemirror_mode": {
    "name": "ipython",
    "version": 3
   },
   "file_extension": ".py",
   "mimetype": "text/x-python",
   "name": "python",
   "nbconvert_exporter": "python",
   "pygments_lexer": "ipython3",
   "version": "3.7.4"
  }
 },
 "nbformat": 4,
 "nbformat_minor": 2
}
